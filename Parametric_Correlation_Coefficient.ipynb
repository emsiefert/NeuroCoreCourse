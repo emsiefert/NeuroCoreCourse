{
  "nbformat": 4,
  "nbformat_minor": 0,
  "metadata": {
    "colab": {
      "provenance": [],
      "collapsed_sections": [],
      "authorship_tag": "ABX9TyPeXnaBzX2OEWR0HjBxnNN3",
      "include_colab_link": true
    },
    "kernelspec": {
      "name": "python3",
      "display_name": "Python 3"
    },
    "language_info": {
      "name": "python"
    }
  },
  "cells": [
    {
      "cell_type": "markdown",
      "metadata": {
        "id": "view-in-github",
        "colab_type": "text"
      },
      "source": [
        "<a href=\"https://colab.research.google.com/github/emsiefert/NeuroCoreCourse/blob/main/Parametric_Correlation_Coefficient.ipynb\" target=\"_parent\"><img src=\"https://colab.research.google.com/assets/colab-badge.svg\" alt=\"Open In Colab\"/></a>"
      ]
    },
    {
      "cell_type": "code",
      "execution_count": 2,
      "metadata": {
        "colab": {
          "base_uri": "https://localhost:8080/",
          "height": 296
        },
        "id": "WoJfJsArJNQA",
        "outputId": "3374add6-2176-4768-9813-aa2f8465217d"
      },
      "outputs": [
        {
          "output_type": "execute_result",
          "data": {
            "text/plain": [
              "Text(0, 0.5, 'Tail Length')"
            ]
          },
          "metadata": {},
          "execution_count": 2
        },
        {
          "output_type": "display_data",
          "data": {
            "text/plain": [
              "<Figure size 432x288 with 1 Axes>"
            ],
            "image/png": "[encoded data removed]"
          },
          "metadata": {
            "needs_background": "light"
          }
        }
      ],
      "source": [
        "from matplotlib import pyplot as plt\n",
        "import numpy as np\n",
        "#worked on this while hanging with emily\n",
        "\n",
        "# two measured variables:\n",
        "\n",
        "wing_length = [10.4, 10.8, 11.1, 10.2, 10.3, 10.2, 10.7, 10.5, 10.8, 11.2, 10.6, 11.4]\n",
        "tail_length = [7.4, 7.6, 7.9, 7.2, 7.4, 7.1, 7.4, 7.2, 7.8, 7.7, 7.8, 8.3]\n",
        "\n",
        "#1. \n",
        "plt.scatter(wing_length, tail_length)\n",
        "plt.xlabel(\"Wing length\")\n",
        "plt.ylabel(\"Tail Length\")\n",
        "\n",
        "#yeah, these look like they could have some kind of relationship\n"
      ]
    },
    {
      "cell_type": "code",
      "source": [
        "#2. calculate r_xy and r_yx using the equations above and then using function corrcoef\n",
        "#taking the sum from i-1 to n of x-x_mean * y-ymean, dividing that by the square root... htis is. alot, just gonna do the function for now\n",
        "xdiff = wing_length - np.mean(wing_length)\n",
        "ydiff = tail_length - np.mean(tail_length)\n",
        "\n",
        "r_xy = np.dot(xdiff, ydiff)/(np.sqrt(sum(xdiff**2))*np.sqrt(sum(ydiff**2)))\n",
        "print(r_xy) # r_xy is the same of r_yx, these values in this situaiton are the same!\n",
        "\n",
        "pearsons = np.corrcoef(wing_length, tail_length)\n",
        "print(pearsons) # this is printing both r_xy and r_yx for us, they are the same\n",
        "\n"
      ],
      "metadata": {
        "colab": {
          "base_uri": "https://localhost:8080/"
        },
        "id": "M8aGKXSOMDeG",
        "outputId": "ecefa529-8303-432f-b4ed-0db4da29521d"
      },
      "execution_count": 6,
      "outputs": [
        {
          "output_type": "stream",
          "name": "stdout",
          "text": [
            "0.8703545613058227\n",
            "[[1.         0.87035456]\n",
            " [0.87035456 1.        ]]\n"
          ]
        }
      ]
    },
    {
      "cell_type": "code",
      "source": [
        "\n",
        "#3. standard error of r_xy\n",
        "n = len(wing_length)\n",
        "s_r = np.sqrt((1-r_xy**2)/(n-2))\n",
        "\n",
        "print(s_r)\n",
        "\n",
        "# 95% confidence intervals computed from the standard error\n",
        "\n",
        "#. take fishers z\n",
        "z = .5*np.log((1+r_xy)/(1-r_xy))\n",
        "s = np.sqrt(1/(n-3))\n",
        "print(z, s)\n",
        "\n",
        "#confidence interval:\n",
        "z_criterion = 1.96\n",
        "\n",
        "conf_int = [z-(z_criterion*s), z+(z_criterion*s)]\n",
        "print(conf_int)\n",
        "\n",
        "new_r = ((np.exp(2*conf_int[0])-1)/(np.exp(2*conf_int[0])+1))\n",
        "new_r2 = ((np.exp(2*conf_int[1])-1)/(np.exp(2*conf_int[1])+1))\n",
        "print(new_r, new_r2)\n",
        "\n",
        "#4. \n",
        "\n",
        "t_stat = r_xy/s_r\n",
        "print(t_stat)\n",
        "\n",
        "# this is a very big t_stat, i reject the null!\n",
        "\n",
        "#5. now, r=.75 H_0\n",
        "yale_r = .75\n",
        "yale_z = .5*np.log((1+yale_r)/(1-yale_r))\n",
        "\n",
        "lamb = (z - yale_z)/np.sqrt(1/(n-3))\n",
        "print(lamb)\n",
        "# this lies in our conf interval so we cant reject that they are different\n",
        "\n",
        "#6.\n",
        "s_r2 = np.sqrt((1-.5**2)/(n-2))\n",
        "t_stat2 = .5/s_r2\n",
        "print(t_stat2)\n",
        "\n",
        "# estimate sample size via power analysis\n",
        "from statsmodels.stats.power import TTestIndPower\n",
        "# parameters for power analysis\n",
        "effect = 0.5\n",
        "alpha = 0.05\n",
        "power = 0.8\n",
        "# perform power analysis\n",
        "analysis = TTestIndPower()\n",
        "result = analysis.solve_power(effect, power=power, nobs1=None, ratio=1.0, alpha=alpha)\n",
        "print('Sample Size: %.3f' % result)\n",
        "\n",
        "# this doesnt seem right ^, but i think i would calculate n for max interval value?"
      ],
      "metadata": {
        "colab": {
          "base_uri": "https://localhost:8080/"
        },
        "id": "jit8XRRGj6Nm",
        "outputId": "916656b0-c22e-4360-d322-d649de7ed404"
      },
      "execution_count": 27,
      "outputs": [
        {
          "output_type": "stream",
          "name": "stdout",
          "text": [
            "0.15571863652567375\n",
            "1.334539983587134 0.3333333333333333\n",
            "[0.6812066502538008, 1.9878733169204674]\n",
            "0.5923032846726551 0.9631607285142775\n",
            "5.589276792584329\n",
            "1.0847547271784326\n",
            "1.8257418583505538\n",
            "Sample Size: 21.743\n",
            "12\n"
          ]
        }
      ]
    }
  ]
}