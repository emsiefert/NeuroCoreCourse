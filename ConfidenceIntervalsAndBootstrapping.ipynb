{
  "nbformat": 4,
  "nbformat_minor": 0,
  "metadata": {
    "colab": {
      "provenance": [],
      "collapsed_sections": [],
      "authorship_tag": "ABX9TyNXjP6xi49UYKDuV37YSzWh",
      "include_colab_link": true
    },
    "kernelspec": {
      "name": "python3",
      "display_name": "Python 3"
    },
    "language_info": {
      "name": "python"
    }
  },
  "cells": [
    {
      "cell_type": "markdown",
      "metadata": {
        "id": "view-in-github",
        "colab_type": "text"
      },
      "source": [
        "<a href=\"https://colab.research.google.com/github/emsiefert/NeuroCoreCourse/blob/main/ConfidenceIntervalsAndBootstrapping.ipynb\" target=\"_parent\"><img src=\"https://colab.research.google.com/assets/colab-badge.svg\" alt=\"Open In Colab\"/></a>"
      ]
    },
    {
      "cell_type": "markdown",
      "source": [
        "Confidence Intervals and Bootstrapping HW assignment"
      ],
      "metadata": {
        "id": "VxErbDewmN8F"
      }
    },
    {
      "cell_type": "markdown",
      "source": [
        "Exercises\n",
        "Compute confidence/credible intervals based on the four methods above for simulated data sampled from a population that is Gaussian distributed with mean \n",
        "μ\n",
        "=10 and standard deviation \n",
        "σ\n",
        "=2, for n=5, 10, 20, 40, 80, 160, 1000 at a 95% confidence level."
      ],
      "metadata": {
        "id": "zVdaDqZQmUYg"
      }
    },
    {
      "cell_type": "code",
      "source": [
        "import numpy as np\n",
        "import random as rnd\n",
        "import collections\n",
        "import matplotlib.pyplot as plt\n",
        "import time\n",
        "import scipy.stats as st\n",
        "\n",
        "from scipy.stats import bernoulli, binom, poisson, chi2\n",
        "from IPython.display import clear_output\n",
        "from operator import itemgetter\n",
        "from statsmodels.stats import proportion\n",
        "\n",
        "from numpy import matlib"
      ],
      "metadata": {
        "id": "figpVO8yo70E"
      },
      "execution_count": 1,
      "outputs": []
    },
    {
      "cell_type": "code",
      "execution_count": 9,
      "metadata": {
        "colab": {
          "base_uri": "https://localhost:8080/"
        },
        "id": "pq6-xJPpl1Lf",
        "outputId": "f483062f-f290-45d9-8eb0-2dee4111847c"
      },
      "outputs": [
        {
          "output_type": "stream",
          "name": "stdout",
          "text": [
            "[8.325511440931951, 12.343692567660899]\n",
            "[7.341418538751203, 10.35636562264009]\n",
            "[9.351903267137878, 11.105679621463334]\n",
            "[9.747151681395815, 10.776917193318353]\n",
            "[9.791910553634795, 10.688013576914665]\n",
            "[9.60190173091741, 10.193554324216558]\n",
            "[9.901977918482613, 10.153686258624964]\n"
          ]
        }
      ],
      "source": [
        "# 1. The simple, analytic approach with large n and/or known standard deviation. \n",
        "# Based on that paragraph, sounds like we want to do a standard error of the mean\n",
        "mu = 10\n",
        "sigma = 2\n",
        "sample = [5, 10, 20, 40, 80, 160, 1000]\n",
        "\n",
        "for n in sample:\n",
        "  data_generated = np.random.normal(mu,sigma,n) # simulate data\n",
        "  sd = np.std(data_generated) # get actual standard deviation of simulated data\n",
        "  mean = np.mean(data_generated) # get actual mean of the simualted data\n",
        "  SEM_cf = (sd/np.sqrt(n))*1.96 # 1.96 is from the documentation\n",
        "  confidence_interval = [mean-SEM_cf, mean+SEM_cf] # calculate confidence interval based on the dcoumentation\n",
        "  print(confidence_interval) # print!\n",
        "\n"
      ]
    },
    {
      "cell_type": "code",
      "source": [
        "#2. The simple, analytic approach with small n and unknown population standard deviation\n",
        "# sounds like we wanna do the same as above, but this time with t-values instead of z-values\n",
        "mu = 10\n",
        "sigma = 2\n",
        "sample = [5, 10, 20, 40, 80, 160, 1000]\n",
        "\n",
        "t_vals = [2.776, 2.262, 2.093, 2.023, 1.99, 1.975, 1.962] #t_vals are from online t val calculator, for each n (with df = n-1)\n",
        "\n",
        "for idx, n in enumerate(sample):\n",
        "  data_generated = np.random.normal(mu,sigma,n) # simulate data\n",
        "  sd = np.std(data_generated) # get actual standard deviation of simulated data\n",
        "  mean = np.mean(data_generated) # get actual mean of the simualted data\n",
        "\n",
        "  SEM_cf = (sd/np.sqrt(n))*t_vals[idx] # t val is from t_vals\n",
        "  confidence_interval = [mean-SEM_cf, mean+SEM_cf] # calculate confidence interval based on documentation\n",
        "  print(confidence_interval) # print!\n"
      ],
      "metadata": {
        "colab": {
          "base_uri": "https://localhost:8080/"
        },
        "id": "-j8zsa4GmIcC",
        "outputId": "bf08c2f4-6ce6-41d0-bce9-a7a230ffaf55"
      },
      "execution_count": 14,
      "outputs": [
        {
          "output_type": "stream",
          "name": "stdout",
          "text": [
            "[6.752149579947492, 13.61682319826092]\n",
            "[9.107872256840334, 12.605064666412254]\n",
            "[10.578425835772885, 12.66686611264988]\n",
            "[9.274846972404031, 10.439535534754562]\n",
            "[9.501042626902185, 10.386638916280637]\n",
            "[9.667862201849275, 10.251089537667973]\n",
            "[9.901207107173995, 10.151390673201789]\n"
          ]
        }
      ]
    },
    {
      "cell_type": "code",
      "source": [
        "#3. Bootstrapped confidence intervals\n",
        "mu = 10\n",
        "sigma = 2\n",
        "sample = [5, 10, 20, 40, 80, 160, 1000]\n",
        "\n",
        "for n in sample:\n",
        "  data_generated = np.random.normal(mu,sigma,n) # simulate data\n",
        "  data_generated = (data_generated,)\n",
        "  bootstrapped_confidence_interval = st.bootstrap(data_generated, np.mean, confidence_level = .95) #function found from googling\n",
        "  ci_l, ci_u =  bootstrapped_confidence_interval.confidence_interval #pull out info you want\n",
        "  print(ci_l, ci_u)\n"
      ],
      "metadata": {
        "colab": {
          "base_uri": "https://localhost:8080/"
        },
        "id": "FKpmaEtqur6G",
        "outputId": "6009f613-caba-4ce0-e615-713fdff55634"
      },
      "execution_count": 22,
      "outputs": [
        {
          "output_type": "stream",
          "name": "stdout",
          "text": [
            "10.67964231474015 13.097638527981275\n",
            "9.721730522011724 11.388530691799858\n",
            "8.814466537358138 10.413447967050663\n",
            "9.399458935296982 10.578341577125329\n",
            "9.608130275240969 10.593516549249479\n",
            "9.598835142817135 10.266151108045255\n",
            "9.820063819905773 10.0621156923036\n"
          ]
        }
      ]
    },
    {
      "cell_type": "code",
      "source": [
        "#4. Bayesian credible intervals\n",
        "# feels like here, its asking me to do the same hting i did in the first one but on the posterior probability distribution?\n",
        "mu = 10\n",
        "sigma = 2\n",
        "sample = [5, 10, 20, 40, 80, 160, 1000]\n",
        "\n",
        "for n in sample:\n",
        "  data_generated = np.random.normal(mu,sigma,n) # simulate data\n",
        "  #here, i wanna get the posterior probability distribution\n",
        "  sd = np.std(data_generated) # get actual standard deviation of simulated data\n",
        "  mean = np.mean(data_generated) # get actual mean of the simualted data\n",
        "  SEM_cf = (sd/np.sqrt(n))*1.96 # 1.96 is from the documentation\n",
        "  confidence_interval = [mean-SEM_cf, mean+SEM_cf] # calculate confidence interval based on the dcoumentation\n",
        "  print(confidence_interval) # print!\n",
        "\n",
        "\n"
      ],
      "metadata": {
        "id": "CGoaaAflxCYO"
      },
      "execution_count": null,
      "outputs": []
    }
  ]
}